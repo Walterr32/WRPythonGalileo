{
 "cells": [
  {
   "cell_type": "markdown",
   "id": "f50508cf-800e-4355-9486-a44e97eaedbc",
   "metadata": {},
   "source": [
    "# Ciencia de datos en Python"
   ]
  },
  {
   "cell_type": "markdown",
   "id": "a39f79f4-42bd-4d0b-87d5-d001e55081a8",
   "metadata": {},
   "source": [
    "# Walter Reyes *23004450*"
   ]
  },
  {
   "cell_type": "markdown",
   "id": "d640176f-80e6-4348-a645-ba4440b4cac4",
   "metadata": {},
   "source": [
    "# Laboratorio 1"
   ]
  },
  {
   "cell_type": "markdown",
   "id": "1626587b-74ad-4cfc-9173-d8de9a97845c",
   "metadata": {
    "tags": []
   },
   "source": [
    "### 1. ¿Que es Git?"
   ]
  },
  {
   "cell_type": "markdown",
   "id": "0cea23f5-a216-4209-b1e8-965da27b612c",
   "metadata": {},
   "source": [
    "Git es un sistema de control de versiones, siendo este un software que sirve para gestiones las versiones por las que va pasando el código de los proyectos"
   ]
  },
  {
   "cell_type": "markdown",
   "id": "46eae9d5-b10b-4c4b-b095-e73194cafee5",
   "metadata": {
    "tags": []
   },
   "source": [
    "Git es una herramienta que facilita mucho el desarrollo de losproyectos en equipo, asi como otras operaciones relacionadas con el flujo de trabajo de los desarrolladores"
   ]
  },
  {
   "cell_type": "markdown",
   "id": "9c6507a8-bbf2-4fd2-98ae-064d4b160e5e",
   "metadata": {},
   "source": [
    "Además permite saber todos los estdos de los proyectos, por lo que han pasado cada uno de los archivos de código de proyectos, permitiendo saber cúando se modificó un archivo y qué cambios se realizaron a lo largo de toda la existencia de ese archivo."
   ]
  },
  {
   "cell_type": "markdown",
   "id": "2ba9b047-cd37-424b-954d-dac805abd979",
   "metadata": {},
   "source": [
    "Git es una herramienta fundamental para los trabajos en equipo, permitiendo que el desarrollador trabaje con su propia copia local y al momento de enviar los cambios a su repositorio no genera conflictos con otros códigos ingresados."
   ]
  },
  {
   "cell_type": "markdown",
   "id": "e622b173-a561-4027-94d6-d76e49e2d7b2",
   "metadata": {},
   "source": [
    "De igual manera, permite ver el trabajo de otros donde se puede ir actualizando según este trabaje permitiendo así una mejor combinación entre ellos"
   ]
  },
  {
   "cell_type": "markdown",
   "id": "cc304c38-96b0-48b0-8093-f5b1352a3dc3",
   "metadata": {},
   "source": [
    "# 2. ¿Que es github?"
   ]
  },
  {
   "cell_type": "markdown",
   "id": "7126e8dd-3c3c-4d84-aa0d-79edbb37afea",
   "metadata": {},
   "source": [
    "Es un portal para alojar el código de las aplicaciones de cualquier desarrollador, adquirida por Microsoft en junio de 2018. Esta plataforma fue creada para que los desarrolladores suban código de sus aplicaciones y herramientas, permiento al usuario entrar y aprender sobre esta y colaborar para su desarrollo."
   ]
  },
  {
   "cell_type": "markdown",
   "id": "ef3e8131-288b-4fcd-ad1f-f4ad2a9c4356",
   "metadata": {},
   "source": [
    "GitHub es un escencia, un portal para gestionar las aplicaciones de que utilizan el sistema Git. Permitiendo ver el código y descargar las diferetes versiones de una aplicación. También hace la función de red social conectando desarrolladores con usuarios para que estos colaboren mejorando la aplicación como se mencionó con anterioridad."
   ]
  },
  {
   "cell_type": "markdown",
   "id": "f72d9ff8-cbd4-4d1c-ade7-7b2e5e5ffd0d",
   "metadata": {},
   "source": [
    "# 3. Magic Cells"
   ]
  },
  {
   "cell_type": "markdown",
   "id": "fbb929a9-da06-43a8-ad07-f09f4cd110f8",
   "metadata": {},
   "source": [
    "MagicCells es una extensión para Jupyter Notebooks que permite ejecutar código Python dentro de las celdas del notebook"
   ]
  },
  {
   "cell_type": "markdown",
   "id": "f756f334-8fda-4d87-b527-c408cc03bd86",
   "metadata": {},
   "source": [
    "# Repositorio de GitHub"
   ]
  },
  {
   "cell_type": "markdown",
   "id": "fafb74eb-ce30-48e3-a10c-4b1a0fb47b3b",
   "metadata": {},
   "source": [
    "https://github.com/Walterr32/WRPythonGalileo"
   ]
  }
 ],
 "metadata": {
  "kernelspec": {
   "display_name": "Python 3 (ipykernel)",
   "language": "python",
   "name": "python3"
  },
  "language_info": {
   "codemirror_mode": {
    "name": "ipython",
    "version": 3
   },
   "file_extension": ".py",
   "mimetype": "text/x-python",
   "name": "python",
   "nbconvert_exporter": "python",
   "pygments_lexer": "ipython3",
   "version": "3.11.5"
  }
 },
 "nbformat": 4,
 "nbformat_minor": 5
}
